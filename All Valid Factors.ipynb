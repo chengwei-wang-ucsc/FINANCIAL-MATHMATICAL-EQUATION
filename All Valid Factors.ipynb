{
 "cells": [
  {
   "cell_type": "code",
   "execution_count": 1,
   "id": "76ca7609",
   "metadata": {
    "ExecuteTime": {
     "end_time": "2023-04-27T05:17:27.715609Z",
     "start_time": "2023-04-27T05:17:27.398401Z"
    }
   },
   "outputs": [],
   "source": [
    "import warnings\n",
    "warnings.filterwarnings(\"ignore\")\n",
    "import pandas as pd\n",
    "#显示Dateframe所有列(参数设置为None代表显示所有行，也可以自行设置数字)\n",
    "pd.set_option('display.max_columns',None)\n",
    "#显示Dateframe所有行\n",
    "pd.set_option('display.max_rows',None)\n",
    "#设置Dataframe数据的显示长度，默认为50\n",
    "pd.set_option('max_colwidth',200)\n",
    "#不显示科学计数法，保留5位小数\n",
    "pd.set_option('display.float_format', lambda x: '%.10f' % x)\n",
    "import numpy as np\n",
    "from tqdm import tqdm\n",
    "path = 'C:\\\\Users\\\\budin\\\\Desktop\\\\强化学习\\\\螺纹钢\\\\5分钟\\\\'"
   ]
  },
  {
   "cell_type": "code",
   "execution_count": 2,
   "id": "e8d5c7cc",
   "metadata": {
    "ExecuteTime": {
     "end_time": "2023-04-27T05:17:27.731620Z",
     "start_time": "2023-04-27T05:17:27.716611Z"
    },
    "code_folding": [
     0
    ]
   },
   "outputs": [],
   "source": [
    "def IC_test(price, factor_values, shift=-1):\n",
    "    next_term_return = pd.Series(price).pct_change().shift(shift).fillna(0).values\n",
    "    factor_values = np.asarray(factor_values)\n",
    "    factor_values = np.nan_to_num(factor_values)\n",
    "    IC = np.corrcoef(factor_values, next_term_return)[0][-1]\n",
    "    return IC"
   ]
  },
  {
   "cell_type": "code",
   "execution_count": 3,
   "id": "33d46ff7",
   "metadata": {
    "ExecuteTime": {
     "end_time": "2023-04-27T05:17:27.971777Z",
     "start_time": "2023-04-27T05:17:27.733622Z"
    },
    "code_folding": [
     6
    ],
    "scrolled": true
   },
   "outputs": [
    {
     "name": "stderr",
     "output_type": "stream",
     "text": [
      "100%|█████████████████████████████████████████████████████████████████████████████████| 49/49 [00:00<00:00, 344.85it/s]\n"
     ]
    }
   ],
   "source": [
    "res_df_158 = pd.read_csv(path+'数据\\\\新建文件夹\\\\pre_processed_train_df_2_alpha_158.csv').drop(columns='Unnamed: 0')\n",
    "num_to_keep = 50\n",
    "factors = res_df_158.columns[9:]\n",
    "tickers = res_df_158.tic.unique()\n",
    "corr_list = []\n",
    "corr_df = pd.DataFrame()\n",
    "for i in tqdm(range(len(factors))):\n",
    "    tmp_corr_2 = []\n",
    "    for a in tickers:\n",
    "        tmp_df = res_df_158[res_df_158.tic==a]\n",
    "        tmp_corr = IC_test(price=tmp_df.close.values, factor_values=tmp_df[factors[i]].values, shift=-1)\n",
    "        tmp_corr_2.append(np.nan_to_num(tmp_corr))\n",
    "    corr_list.append(np.mean(tmp_corr))\n",
    "        \n",
    "corr_df['correlation'] = corr_list\n",
    "corr_df['factors'] = factors\n",
    "corr_df = corr_df.dropna()\n",
    "corr_df = corr_df.drop(corr_df[corr_df.correlation==1].index)\n",
    "corr_df = corr_df.sort_values(by=\"correlation\",ascending=False)\n",
    "valid_factors = []\n",
    "valid_factors.append(corr_df.head(num_to_keep).factors.values)\n",
    "valid_factors = np.asarray(valid_factors)"
   ]
  },
  {
   "cell_type": "code",
   "execution_count": 4,
   "id": "6dad442d",
   "metadata": {
    "ExecuteTime": {
     "end_time": "2023-04-27T05:17:28.788312Z",
     "start_time": "2023-04-27T05:17:27.973778Z"
    },
    "code_folding": [
     6
    ],
    "scrolled": true
   },
   "outputs": [
    {
     "name": "stderr",
     "output_type": "stream",
     "text": [
      "100%|███████████████████████████████████████████████████████████████████████████████| 129/129 [00:00<00:00, 201.75it/s]\n"
     ]
    }
   ],
   "source": [
    "res_df_191 = pd.read_csv(path+'数据\\\\新建文件夹\\\\pre_processed_train_df_2_alpha_191.csv').drop(columns='Unnamed: 0')\n",
    "num_to_keep = 50\n",
    "factors = res_df_191.columns[9:]\n",
    "tickers = res_df_191.tic.unique()\n",
    "corr_list = []\n",
    "corr_df_1 = pd.DataFrame()\n",
    "for i in tqdm(range(len(factors))):\n",
    "    tmp_corr_2 = []\n",
    "    for a in tickers:\n",
    "        tmp_df = res_df_191[res_df_191.tic==a]\n",
    "        tmp_corr = IC_test(price=tmp_df.close.values, factor_values=tmp_df[factors[i]].values, shift=-1)\n",
    "        tmp_corr_2.append(tmp_corr)\n",
    "    corr_list.append(np.mean(tmp_corr))\n",
    "        \n",
    "corr_df_1['correlation'] = corr_list\n",
    "corr_df_1['factors'] = factors\n",
    "corr_df_1 = corr_df_1.dropna()\n",
    "corr_df_1 = corr_df_1.drop(corr_df_1[corr_df_1.correlation==1].index)\n",
    "corr_df_1 = corr_df_1.sort_values(by=\"correlation\",ascending=False)\n",
    "valid_factors = []\n",
    "valid_factors.append(corr_df_1.head(num_to_keep).factors.values)\n",
    "valid_factors = np.asarray(valid_factors)"
   ]
  },
  {
   "cell_type": "code",
   "execution_count": 5,
   "id": "5efacd24",
   "metadata": {
    "ExecuteTime": {
     "end_time": "2023-04-27T05:17:39.292825Z",
     "start_time": "2023-04-27T05:17:28.790315Z"
    },
    "code_folding": [
     6
    ],
    "scrolled": true
   },
   "outputs": [
    {
     "name": "stderr",
     "output_type": "stream",
     "text": [
      "100%|████████████████████████████████████████████████████████████████████████████████| 626/626 [00:09<00:00, 64.00it/s]\n"
     ]
    }
   ],
   "source": [
    "res_df = pd.read_csv(path+'数据\\\\新建文件夹\\\\pre_processed_train_df_2.csv').drop(columns='Unnamed: 0')\n",
    "num_to_keep = 50\n",
    "factors = res_df.columns[9:]\n",
    "tickers = res_df.tic.unique()\n",
    "corr_list = []\n",
    "corr_df_2 = pd.DataFrame()\n",
    "for i in tqdm(range(len(factors))):\n",
    "    tmp_corr_2 = []\n",
    "    for a in tickers:\n",
    "        tmp_df = res_df[res_df.tic==a]\n",
    "        tmp_corr = IC_test(price=tmp_df.close.values, factor_values=tmp_df[factors[i]].values, shift=-1)\n",
    "        tmp_corr_2.append(tmp_corr)\n",
    "    corr_list.append(np.mean(tmp_corr))\n",
    "        \n",
    "corr_df_2['correlation'] = corr_list\n",
    "corr_df_2['factors'] = factors\n",
    "corr_df_2 = corr_df_2.dropna()\n",
    "corr_df_2 = corr_df_2.drop(corr_df_2[corr_df_2.correlation==1].index)\n",
    "corr_df_2 = corr_df_2.sort_values(by=\"correlation\",ascending=False)\n",
    "valid_factors = []\n",
    "valid_factors.append(corr_df_2.head(num_to_keep).factors.values)\n",
    "valid_factors = np.asarray(valid_factors)"
   ]
  },
  {
   "cell_type": "code",
   "execution_count": 6,
   "id": "4be53df5",
   "metadata": {
    "ExecuteTime": {
     "end_time": "2023-04-27T05:17:39.308837Z",
     "start_time": "2023-04-27T05:17:39.294827Z"
    },
    "scrolled": true
   },
   "outputs": [
    {
     "data": {
      "text/plain": [
       "(    correlation                   factors\n",
       " 0  0.0315645919                    kmax_3\n",
       " 1  0.0284611843             alpha_191_107\n",
       " 2  0.0279669839                    kmax_5\n",
       " 3  0.0262575343               aroondown88\n",
       " 4  0.0260940376                    VROC12\n",
       " 5  0.0260733912   Williams_upper_shadow_6\n",
       " 6  0.0252710215                    ARBR88\n",
       " 7  0.0247950574                 Sell._3_1\n",
       " 8  0.0240627821                   Sell._8\n",
       " 9  0.0238331665              aroondown120\n",
       " 10 0.0237399900  Williams_upper_shadow_89\n",
       " 11 0.0232895670  Williams_upper_shadow_13\n",
       " 12 0.0231507370  Williams_upper_shadow_21\n",
       " 13 0.0226052251  Williams_upper_shadow_55\n",
       " 14 0.0225928118  Williams_upper_shadow_34\n",
       " 15 0.0217887403                STOCHRSI34\n",
       " 16 0.0217122630                 Sell._8_1\n",
       " 17 0.0213876709                     ASTD6\n",
       " 18 0.0212004762                    kmax_8\n",
       " 19 0.0211667336                   ARBR120\n",
       " 20 0.0210563031                STOCHRSI13\n",
       " 21 0.0206739454                STOCHRSI55\n",
       " 22 0.0203867968             alpha_191_121\n",
       " 23 0.0199765826                STOCHRSI88\n",
       " 24 0.0195686529              alpha_191_91\n",
       " 25 0.0191033853                   kmax_13\n",
       " 26 0.0186512360                  Sell._34\n",
       " 27 0.0185484368              alpha_191_65\n",
       " 28 0.0184344445                       AR6\n",
       " 29 0.0180475589              alpha_191_70\n",
       " 30 0.0177349651              alpha_191_46\n",
       " 31 0.0175045256             alpha_191_108\n",
       " 32 0.0172547989                 MiNUS_DM5\n",
       " 33 0.0171599584                       VAR\n",
       " 34 0.0164608355                    Vmacdh\n",
       " 35 0.0164185067                   klow_88,\n",
       " array(['kmax_3', 'alpha_191_107', 'kmax_5', 'aroondown88', 'VROC12',\n",
       "        'Williams_upper_shadow_6', 'ARBR88', 'Sell._3_1', 'Sell._8',\n",
       "        'aroondown120', 'Williams_upper_shadow_89',\n",
       "        'Williams_upper_shadow_13', 'Williams_upper_shadow_21',\n",
       "        'Williams_upper_shadow_55', 'Williams_upper_shadow_34',\n",
       "        'STOCHRSI34', 'Sell._8_1', 'ASTD6', 'kmax_8', 'ARBR120',\n",
       "        'STOCHRSI13', 'STOCHRSI55', 'alpha_191_121', 'STOCHRSI88',\n",
       "        'alpha_191_91', 'kmax_13', 'Sell._34', 'alpha_191_65', 'AR6',\n",
       "        'alpha_191_70'], dtype=object))"
      ]
     },
     "execution_count": 6,
     "metadata": {},
     "output_type": "execute_result"
    }
   ],
   "source": [
    "df_1 = corr_df\n",
    "df_2 = corr_df_1\n",
    "df_1 = df_1.append(df_2)\n",
    "df_3 = corr_df_2\n",
    "df_1 = df_1.append(df_3)\n",
    "\n",
    "valid_factors = pd.DataFrame()\n",
    "positive_corr = df_1.sort_values(by=\"correlation\",ascending=False).reset_index(drop=True)\n",
    "valid_factors = valid_factors.append(positive_corr.iloc[:30])\n",
    "valid_factors = valid_factors.factors.values\n",
    "\n",
    "positive_corr.head(36), valid_factors"
   ]
  },
  {
   "cell_type": "code",
   "execution_count": null,
   "id": "a0bb15f0",
   "metadata": {},
   "outputs": [],
   "source": []
  }
 ],
 "metadata": {
  "kernelspec": {
   "display_name": "Python 3 (ipykernel)",
   "language": "python",
   "name": "python3"
  },
  "language_info": {
   "codemirror_mode": {
    "name": "ipython",
    "version": 3
   },
   "file_extension": ".py",
   "mimetype": "text/x-python",
   "name": "python",
   "nbconvert_exporter": "python",
   "pygments_lexer": "ipython3",
   "version": "3.9.13"
  },
  "toc": {
   "base_numbering": 1,
   "nav_menu": {},
   "number_sections": true,
   "sideBar": true,
   "skip_h1_title": false,
   "title_cell": "Table of Contents",
   "title_sidebar": "Contents",
   "toc_cell": false,
   "toc_position": {},
   "toc_section_display": true,
   "toc_window_display": false
  },
  "varInspector": {
   "cols": {
    "lenName": 16,
    "lenType": 16,
    "lenVar": 40
   },
   "kernels_config": {
    "python": {
     "delete_cmd_postfix": "",
     "delete_cmd_prefix": "del ",
     "library": "var_list.py",
     "varRefreshCmd": "print(var_dic_list())"
    },
    "r": {
     "delete_cmd_postfix": ") ",
     "delete_cmd_prefix": "rm(",
     "library": "var_list.r",
     "varRefreshCmd": "cat(var_dic_list()) "
    }
   },
   "types_to_exclude": [
    "module",
    "function",
    "builtin_function_or_method",
    "instance",
    "_Feature"
   ],
   "window_display": false
  }
 },
 "nbformat": 4,
 "nbformat_minor": 5
}
